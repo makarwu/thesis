{
 "cells": [
  {
   "cell_type": "code",
   "execution_count": 1,
   "metadata": {},
   "outputs": [
    {
     "data": {
      "text/html": [
       "<div>\n",
       "<style scoped>\n",
       "    .dataframe tbody tr th:only-of-type {\n",
       "        vertical-align: middle;\n",
       "    }\n",
       "\n",
       "    .dataframe tbody tr th {\n",
       "        vertical-align: top;\n",
       "    }\n",
       "\n",
       "    .dataframe thead th {\n",
       "        text-align: right;\n",
       "    }\n",
       "</style>\n",
       "<table border=\"1\" class=\"dataframe\">\n",
       "  <thead>\n",
       "    <tr style=\"text-align: right;\">\n",
       "      <th></th>\n",
       "      <th>Unnamed: 0</th>\n",
       "      <th>0</th>\n",
       "      <th>a</th>\n",
       "    </tr>\n",
       "  </thead>\n",
       "  <tbody>\n",
       "    <tr>\n",
       "      <th>0</th>\n",
       "      <td>0</td>\n",
       "      <td>Thyroid_Cancer</td>\n",
       "      <td>Thyroid surgery in  children in a single insti...</td>\n",
       "    </tr>\n",
       "    <tr>\n",
       "      <th>1</th>\n",
       "      <td>1</td>\n",
       "      <td>Thyroid_Cancer</td>\n",
       "      <td>\" The adopted strategy was the same as that us...</td>\n",
       "    </tr>\n",
       "    <tr>\n",
       "      <th>2</th>\n",
       "      <td>2</td>\n",
       "      <td>Thyroid_Cancer</td>\n",
       "      <td>coronary arterybypass grafting thrombosis ï¬b...</td>\n",
       "    </tr>\n",
       "  </tbody>\n",
       "</table>\n",
       "</div>"
      ],
      "text/plain": [
       "   Unnamed: 0               0  \\\n",
       "0           0  Thyroid_Cancer   \n",
       "1           1  Thyroid_Cancer   \n",
       "2           2  Thyroid_Cancer   \n",
       "\n",
       "                                                   a  \n",
       "0  Thyroid surgery in  children in a single insti...  \n",
       "1  \" The adopted strategy was the same as that us...  \n",
       "2  coronary arterybypass grafting thrombosis ï¬b...  "
      ]
     },
     "execution_count": 1,
     "metadata": {},
     "output_type": "execute_result"
    }
   ],
   "source": [
    "import pandas as pd\n",
    "import numpy as np\n",
    "\n",
    "df = pd.read_csv('../datasets/alldata_1_for_kaggle.csv', encoding=\"latin-1\")\n",
    "df.head(3)"
   ]
  },
  {
   "cell_type": "code",
   "execution_count": 2,
   "metadata": {},
   "outputs": [
    {
     "data": {
      "text/html": [
       "<div>\n",
       "<style scoped>\n",
       "    .dataframe tbody tr th:only-of-type {\n",
       "        vertical-align: middle;\n",
       "    }\n",
       "\n",
       "    .dataframe tbody tr th {\n",
       "        vertical-align: top;\n",
       "    }\n",
       "\n",
       "    .dataframe thead th {\n",
       "        text-align: right;\n",
       "    }\n",
       "</style>\n",
       "<table border=\"1\" class=\"dataframe\">\n",
       "  <thead>\n",
       "    <tr style=\"text-align: right;\">\n",
       "      <th></th>\n",
       "      <th>target</th>\n",
       "      <th>feature</th>\n",
       "    </tr>\n",
       "  </thead>\n",
       "  <tbody>\n",
       "    <tr>\n",
       "      <th>0</th>\n",
       "      <td>Thyroid_Cancer</td>\n",
       "      <td>Thyroid surgery in  children in a single insti...</td>\n",
       "    </tr>\n",
       "    <tr>\n",
       "      <th>1</th>\n",
       "      <td>Thyroid_Cancer</td>\n",
       "      <td>\" The adopted strategy was the same as that us...</td>\n",
       "    </tr>\n",
       "    <tr>\n",
       "      <th>2</th>\n",
       "      <td>Thyroid_Cancer</td>\n",
       "      <td>coronary arterybypass grafting thrombosis ï¬b...</td>\n",
       "    </tr>\n",
       "  </tbody>\n",
       "</table>\n",
       "</div>"
      ],
      "text/plain": [
       "           target                                            feature\n",
       "0  Thyroid_Cancer  Thyroid surgery in  children in a single insti...\n",
       "1  Thyroid_Cancer  \" The adopted strategy was the same as that us...\n",
       "2  Thyroid_Cancer  coronary arterybypass grafting thrombosis ï¬b..."
      ]
     },
     "execution_count": 2,
     "metadata": {},
     "output_type": "execute_result"
    }
   ],
   "source": [
    "df = df.drop('Unnamed: 0', axis = 1)\n",
    "df = df.rename({'0': 'target', 'a': 'feature'}, axis = 1)\n",
    "df.head(3)"
   ]
  },
  {
   "cell_type": "code",
   "execution_count": 3,
   "metadata": {},
   "outputs": [
    {
     "data": {
      "text/plain": [
       "(7570, 2)"
      ]
     },
     "execution_count": 3,
     "metadata": {},
     "output_type": "execute_result"
    }
   ],
   "source": [
    "df.shape"
   ]
  },
  {
   "cell_type": "code",
   "execution_count": 4,
   "metadata": {},
   "outputs": [
    {
     "data": {
      "text/plain": [
       "target     0\n",
       "feature    0\n",
       "dtype: int64"
      ]
     },
     "execution_count": 4,
     "metadata": {},
     "output_type": "execute_result"
    }
   ],
   "source": [
    "df.isnull().sum()"
   ]
  },
  {
   "cell_type": "code",
   "execution_count": 5,
   "metadata": {},
   "outputs": [
    {
     "data": {
      "text/plain": [
       "target     0\n",
       "feature    0\n",
       "dtype: int64"
      ]
     },
     "execution_count": 5,
     "metadata": {},
     "output_type": "execute_result"
    }
   ],
   "source": [
    "df.isna().sum()"
   ]
  },
  {
   "cell_type": "code",
   "execution_count": 6,
   "metadata": {},
   "outputs": [
    {
     "data": {
      "text/plain": [
       "target\n",
       "Thyroid_Cancer    2810\n",
       "Colon_Cancer      2580\n",
       "Lung_Cancer       2180\n",
       "Name: count, dtype: int64"
      ]
     },
     "execution_count": 6,
     "metadata": {},
     "output_type": "execute_result"
    }
   ],
   "source": [
    "df['target'].value_counts()"
   ]
  },
  {
   "cell_type": "code",
   "execution_count": 7,
   "metadata": {},
   "outputs": [],
   "source": [
    "\"\"\"\n",
    "Now we do Data Preprocessing.\n",
    "\"\"\"\n",
    "import string, re, nltk\n",
    "from string import punctuation\n",
    "from nltk.tokenize import word_tokenize, RegexpTokenizer\n",
    "from nltk.corpus import stopwords\n",
    "from nltk.stem.porter import PorterStemmer\n",
    "from nltk.stem import WordNetLemmatizer\n",
    "\n",
    "regexp = RegexpTokenizer(\"[\\w']+\")\n",
    "\n",
    "def convert_to_lowercase(text):\n",
    "    return text.lower()\n",
    "def remove_whitespace(text):\n",
    "    return text.strip()\n",
    "def remove_punctuation(text):\n",
    "    punct_str = string.punctuation\n",
    "    punct_str = punct_str.replace(\"'\", \"\") # discarding apostrophe from the string to keep the contractions intact\n",
    "    return text.translate(str.maketrans(\"\", \"\", punct_str))\n",
    "def remove_html(text):\n",
    "    html = re.compile(r'<.*?>')\n",
    "    return html.sub(r'', text)\n",
    "def remove_http(text):\n",
    "    http = \"https?://\\S+|www\\.\\S+\" # matching strings beginning with http (but not just \"http\")\n",
    "    pattern = r\"({})\".format(http) # creating pattern\n",
    "    return re.sub(pattern, \"\", text)\n",
    "# Stopwords\n",
    "stops = stopwords.words(\"english\") # stopwords\n",
    "addstops = [\"among\", \"onto\", \"shall\", \"thrice\", \"thus\", \"twice\", \"unto\", \"us\", \"would\"] # additional stopwords\n",
    "allstops = stops + addstops\n",
    "def remove_stopwords(text):\n",
    "    return \" \".join([word for word in regexp.tokenize(text) if word not in allstops])\n",
    "stemmer = PorterStemmer()\n",
    "def text_stemmer(text):\n",
    "    text_stem = \" \".join([stemmer.stem(word) for word in regexp.tokenize(text)])\n",
    "    return text_stem\n",
    "def discard_non_alpha(text):\n",
    "    word_list_non_alpha = [word for word in regexp.tokenize(text) if word.isalpha()]\n",
    "    text_non_alpha = \" \".join(word_list_non_alpha)\n",
    "    return text_non_alpha\n"
   ]
  },
  {
   "cell_type": "code",
   "execution_count": 8,
   "metadata": {},
   "outputs": [],
   "source": [
    "def text_normalizer(text):\n",
    "    text = convert_to_lowercase(text)\n",
    "    text = remove_whitespace(text)\n",
    "    text = re.sub('\\n' , '', text) # converting text to one line\n",
    "    text = re.sub('\\[.*?\\]', '', text) # removing square brackets\n",
    "    text = remove_http(text)\n",
    "    text = remove_punctuation(text)\n",
    "    text = remove_html(text)\n",
    "    text = remove_stopwords(text)\n",
    "    text = discard_non_alpha(text)\n",
    "    return text"
   ]
  },
  {
   "cell_type": "code",
   "execution_count": 9,
   "metadata": {},
   "outputs": [],
   "source": [
    "df['feature'] = df['feature'].apply(text_normalizer)"
   ]
  },
  {
   "cell_type": "code",
   "execution_count": 10,
   "metadata": {},
   "outputs": [
    {
     "data": {
      "text/plain": [
       "'thyroid surgery children single institution osama ibrahim almosallama ali aseerib ahmed alhumaida ali alzahranic saif alsobhib saud alshanafeybfrom adepartment surgery college medicine qassim university buraidah al qassim saudi arabia bdepartment surgery king faisal specialist hospital research center riyadh saudi arabia cdepartment medicine king faisal specialist hospital research center riyadh saudi arabia correspondence dr osama ibrahim almosallam department surgery college medicine qassim university po box buraidah al qassim saudi arabia osamaiaahotmailcom orcid citation almosallam oi aseeri alhumaid alzahrani alsobhi alshanafey thyroid surgery children single institution ann saudi med received january accepted may published august copyright copyright annals saudi medicine saudi arabia access creative commons attributionnoncommercialnoderivatives international license cc byncnd details accessed httpcreativecommons nonebackground data thyroid surgery children scarceobjective analyze outcome data thyroid surgery pediatric populationdesign medical record reviewsetting tertiary health care institutionpatients methods collected demographic clinical data patients years younger thyroid surgery period descriptive data presentedmain outcome measures indications thyroidectomy thyroid pathology complications length stay radioactive iodine treatment recurrencessample size results patients underwent thyroidectomy procedures females mean age operation years associated multiple endocrine neoplasia type history radiation exposure eightyone patients fine needle aspiration fna correlated final histopathology cases sixtysix patients malignant cancer papillary patients neck dissection lymph node metastasis distant metastases lung procedures included total thyroidectomy hemithyroidectomy completion subtotal thyroidectomy twentythree patients developed hypocalcemia permanent unilateral recurrent laryngeal nerve injury permanent patients followed mean duration months median months patients thyroid cancer received radioactive iodine recurrence malignancy commonest indication thyroid surgery children fna highly diagnostic hypocalcemia recurrent laryngeal nerve injury significant complications recurrence rate thyroid cancer limitations retrospectiveconflict interest noneoriginal ann saudi med julyaugust wwwannsaudimednet diseases requiring surgery relatively uncommon children compared adults prevalence palpable thyroid nodules children ranges sporadic welldifferentiated thyroid cancer common endocrine malignancy children accounting pediatric cancers prepubertal age group cancers adolescents aged common indication thyroid surgery children varies published studies thyroidectomy malignant conditions data children throughout world relatively scarce objective study analyze clinical data outcome thyroid surgery large series children treated single center king faisal specialist hospital research center kfshrc riyadhpatient methods approval institutional review board irb kfshrc medical records patients years old younger underwent thyroid surgery retrospectively reviewed elected include patients year ensure reasonable followup period patients study identified search operating room log procedures involving thyroid gland specified age groupdemographic data clinical features surgical outcomes collected specific data obtained included age operation gender family history presenting symptoms history radiation exposure presence multiple endocrine neoplasia type men thyroid function test presence size thyroid nodules ultrasound presence lymph nodes metastasis distant metastasis fine needle aspiration fna cytology surgical procedure final histopathology length followup outcomes analyzed postoperative complications including transient permanent hypocalcemia transient permanent recurrent laryngeal nerve paralysis wound infection hematoma length stay radioactive iodine treatment recurrences thyroid procedures series included hemithyroidectomy subtotal total completion thyroidectomy surgeries performed either endocrine adult surgeon pediatric surgeon intraoperative nerve monitoring used early series procedures performed adult endocrine surgeons lately combined approach adopted pediatric surgeons adult endocrine surgeons collaborated cases proceduresthe normal range laboratory regardless symptoms transient hypocalcemia identified lasted less months permanent hypocalcemia considered serum calcium level remained normal range patient continued calcium supplementation months surgery patients family history men underwent genetic testing ret protooncogene confirm diagnosis patients underwent completion thyroidectomy preoperative postoperative vocal cords assessment otolaryngology clinic descriptive data generated comparisons conducted using test continuous data chisquare fisher exact tests proportionsresultsbetween patients underwent surgical procedures patients underwent two procedures thyroid disease institution eighty patients females mean age operation years median years range years common indication thyroidectomy thyroid nodule present cases table mean sd size thyroid nodules mm cases associated men syndromes final pathology two patients men syndrome showed medullary thyroid cancer mtc remaining patients prophylactic procedures development mtc none patients history radiation exposure eightyone patients fna correlated final histopathology cases three cases toxic adenoma one case graves disease require fna remaining cases underwent fna another institution fna repeated institution came completion thyroidectomy documented pathology malignancy first surgery another hospitalthe common diagnoses included papillary thyroid cancer multinodular goiter colloid table indications thyroidectomy patients indicationnodulen men prophylaxishyperthyroidismmultinodular goitercompletion thyroidectomy hypocalcemia defined calcium levels data number original pediatric thyroid surgeryann saudi med julyaugust wwwannsaudimednet table surgical procedures included total thyroidectomy hemithyroidectomy completion thyroidectomy subtotal thyroidectomy neck dissection performed patients operative complications observed patients common complication hypocalcemia transient permanent table thyroid pathology patientspathologyn benignnormal thyroid tissuecolloid nodulecystadenomathyroiditisgraves diseasethyroid cancerpapillaryfollicularmedullaryhurthleanaplastictotaldata number table benign malignant lesions p value age meanyearsgender malefemalepresence nodulehypocalcemiarecurrent laryngeal nerve palsybleedinghematomawound infectiontracheal injuryoverall complicationsmean length stay daysmen recurrent laryngeal nerve palsy transient permanent unilateral table patients malignant lesions lymph node metastasis patients distant metastases lung none patients developed postoperative bleeding wound infection tracheal injury patients followed mean months median range months radioactive iodine treatment delivered patients malignant lesions patients recurrences local recurrences local distant recurrences lung three cases received radioactive iodine rai recurrence one case low risk recurrence receive rai recurrence one case medullary thyroid cancer receive rai remaining five cases clear data whether patients received rai recurrence local recurrences underwent resection except one patient lost follow mortality study discussionthe common indication thyroidectomy series thyroid nodule correlates previously published reports pediatric children thyroid nodules estimated fourfold higher risk developing thyroid cancer compared high incidence malignancy series suggests children thyroid nodule carefully evaluatedfna valuablemethod preoperative evaluation thyroid nodules however limitations routine use fna children including need sedation sampling errors limited availability experienced many previous studies reported high sensitivity specificity fna evaluating thyroid nodule correlate findingsour data showed lymph node metastasis thyroid cancer cases supports notion children thyroid cancer frequently present extensive disease adults lymphnode involvement diagnosis seen children compared adults differentiated thyroid hospital largest referral center saudi arabia especially oncology cases may explain large number lymph node distant metastasis cohortthe common complication reported thyroidectomy children hypoparathyroidism incidence ranging original pediatric thyroid surgeryann saudi med julyaugust wwwannsaudimednet results reported hypocalcemia table one study found total thyroidectomy central bilateral neck dissection graves disease malignancy risk factors hypocalcemia thyroid cohort postoperative hypocalcemia noted malignant cases failed reach statistical significance moreover significant difference benign malignant cases terms mean age gender distribution recurrent laryngeal nerve injury overall complications finding reported multiple studies recent years found inverse relationship surgeon volume complication similar data pediatric population lacking one study found highvolume endocrine surgeons better outcomes shorter lengths stay lower costs thyroidectomy parathyroidectomy children compared pediatric surgeons general surgeons scheumann colleagues also concluded collaborative approach pediatric endocrine surgeons better outcomes led authors suggest combined approach endocrine pediatric surgeons addition pediatric endocrinologists may optimize care children surgical thyroid disease given low number pediatric data allow comparisons different approaches given late adoption combined approach recurrence rate thyroid cancer children thyroidectomy varied widely reported studies ranging cohort studies explored predictors recurrence lymph node involvement multiple nodules male gender younger age histologic subtype advanced tumor stage risk factors associated study patients malignant lesions received rai although conflicting data regarding indications postoperative rai treatment lowrisk patients current recommendation lowrisk patients treated without limitations study retrospective nature may affect validity quality data small number cases categories enable compare groups explore predictors relative factors hand study adds scarce data thyroid surgery pediatric age group malignancy commonest indication thyroid surgery children fna highly diagnostic hypocalcemia recurrent laryngeal nerve injury significant complications cancerrelated death extremely rare recurrence uncommon significant number patients malignant cases received rai treatmentoriginal pediatric thyroid surgeryann saudi med julyaugust wwwannsaudimednet trowbridge fl matovinovic j mclaren gd nichaman mz iodine goiter children pediatrics ries lag melbert krapcho stinchcomb dg howlader n horner mj et al seer cancer statistics review bethesda national cancer institute based november seer data submission chen masiakos pt gaz rd hodin ra parangi randolph gw et al pediatric thyroidectomy high volume thyroid surgery center risk factors postoperative hypocalcemia j pediatr surg wood jh partrick da barham hp bensard dd travers hs bruny jl et al pediatric thyroidectomy collaborative surgical approach j pediatr surg scholz smith jr chaignaud b shamberger rc huang sa thyroid surgery children hospital boston singleinstitution experience j pediatr surg josefson j zimmerman thyroid nodules cancers children pediatr endocrinol rev hameed r zacharin mr changing face paediatric adolescent thyroid cancer j paediatr child health lugovicente h ortiz vn irizarry h camps ji pagã n v pediatric thyroid nodules management era fine needle aspirationj pediatr surg mussa de andrea motta mormile palestini n corrias predictors malignancy children thyroid nodules j pediatr amirazodi e propst ej chung ct parra da wasserman jd pediatric thyroid fna biopsy outcomes impact management years tertiary care center cancer cytopathol partyka kl huang cramer hm chen wu hh histologic clinical followup thyroid fineneedle aspirates pediatric patients cancer cytopathol sinha ck decoppi p pierro brain c hindmarsh p butler g et al thyroid surgery children clinical outcomes eur j pediatr surg kundel thompson gb richards ml qiu lx cai schwenk fw et al pediatric endocrine surgery experience mayo clinic j clin endocrinol metab february jiang w newbury ro newfield rs pediatric thyroid surgery management thyroid nodulesan institutional experience features period int j pediatr endocrinol burke jf sippel rs chen h evolution pediatric thyroid surgery tertiary medical center surg res alqahtani kh tunio al asiri aljohani nj bayoumi riaz k et al clinicopathological treatment outcomes differentiated thyroid cancer saudi children adults j otolaryngol head neck surg nov kluijfhout wp van beek dj verrijn stuart aa lodewijk l valk gd van der zee dc et al postoperative complications prophylactic thyroidectomy young patients multiple endocrine neoplasia type medicine baltimore raval mv browne chin ac zimmerman angelos p reynolds total thyroidectomy benign disease pediatric patient feasible safe j pediatr surg stavrakis ai ituarte ph ko cy yeh mw surgeon volume predictor outcomes inpatient outpatient endocrine surgery surgery sosa ja bowman hm tielsch jm powe nr gordon ta udelsman r importance surgeon experience clinical economic outcomes thyroidectomy ann surg tuggle ct roman sa wang ts boudourakis l thomas udelsman r et al pediatric endocrine surgery operating children surgery park jeong js ryu hr lee c park jh kang et al differentiated thyroid carcinoma children experience yonsei university health system j korean med sci palmer ba zarroug ae poley rn kollars jp moir cr papillary thyroid carcinoma children risk factors complications disease recurrence j pediatr surg wada n sugino k mimura nagahama kitagawa w shibuya h et al pediatric differentiated thyroid carcinoma stage risk factor analysis disease free survival bmc cancer danese gardini farsetti sciacchitano andreoli pontecorvi thyroid carcinoma children adolescents eur j pediatr astl j chovanec lukes p katra r dvorakova vlcek p et al thyroid carcinoma surgery children adolescents years experience surgery pediatric thyroid lymph node metastases carcinoma int j pediatr otorhinolaryngol chaukar da rangarajan v nair n nadkarni ms pai ps dcruz ak et al pediatric thyroid cancer j surg oncol dzodic r buta markovic gavrilo matovic milovanovic z et al surgical management welldifferentiated thyroid carcinoma children adolescents years experience single institution serbia endocr j scheumann gf gimm wegener g hundeshagen h dralle h prognostic significance surgical management locoregional papillary thyroid cancer world j surg shi rl qu n yang sw tumor size interpretation predicting cervical lymph node metastasis using differentiated thyroid cancer risk model onco targets ther zimmerman hay id gough ir goellner jr ryan jj grant cs et al papillary thyroid carcinoma children adults longterm followup patients conservatively treated one institution three decades surgery collini p mattavelli f pellegrinelli barisella ferrari massimino papillary carcinoma thyroid gland childhood adolescence morphologic subtypes biologic behavior prognosis clinicopathologic study sporadic cases treated single institution period j surg pathol borsonchazot causeret lifante jc augros berger n peix jl predictive factors recurrence series children adolescents differentiated thyroid cancer world j surg baumgarten hd bauer aj isaza mostoufimoab kazahaya k adzick ns surgical management pediatric thyroid disease complication rates thyroidectomy children hospital philadelphia highvolume pediatric thyroid center journal pediatric surgery oct kurzawinski tr de coppi p thyroidectomy children inpediatric surgery pp springer berlin heidelberg francis g waguespack sg bauer aj angelog p benvenga et al management guidelines children thyroid nodules differentiated thyroid cancer american thyroid association guidelines task force pediatric thyroid cancer thyroid volume number original pediatric thyroid surgeryann saudi med julyaugust wwwannsaudimednet'"
      ]
     },
     "execution_count": 10,
     "metadata": {},
     "output_type": "execute_result"
    }
   ],
   "source": [
    "df['feature'][0]"
   ]
  },
  {
   "cell_type": "code",
   "execution_count": 11,
   "metadata": {},
   "outputs": [],
   "source": [
    "from sklearn.feature_extraction.text import TfidfVectorizer\n",
    "from sklearn.model_selection import train_test_split\n",
    "\n",
    "vectorizer = TfidfVectorizer(strip_accents='unicode', analyzer='word', ngram_range=(1,2), max_features=15000, smooth_idf=True, sublinear_tf=True)\n",
    "vectorizer.fit(df['feature'])\n",
    "df_features = vectorizer.transform(df['feature'])\n",
    "df_target = df['target']\n",
    "\n",
    "df_features_train, df_features_test, df_target_train, df_target_test = train_test_split(df_features.toarray(), df_target, test_size = 0.2, random_state=42)"
   ]
  },
  {
   "cell_type": "code",
   "execution_count": 12,
   "metadata": {},
   "outputs": [
    {
     "data": {
      "text/plain": [
       "'from sklearn.naive_bayes import GaussianNB\\n\\nnb_model = GaussianNB()\\nnb_model.fit(df_features_train, df_target_train)\\ntarget_prediction = nb_model.predict(df_features_test)'"
      ]
     },
     "execution_count": 12,
     "metadata": {},
     "output_type": "execute_result"
    }
   ],
   "source": [
    "\"\"\"from sklearn.naive_bayes import GaussianNB\n",
    "\n",
    "nb_model = GaussianNB()\n",
    "nb_model.fit(df_features_train, df_target_train)\n",
    "target_prediction = nb_model.predict(df_features_test)\"\"\""
   ]
  },
  {
   "cell_type": "code",
   "execution_count": 13,
   "metadata": {},
   "outputs": [],
   "source": [
    "from sklearn.naive_bayes import MultinomialNB\n",
    "nb_model = MultinomialNB()\n",
    "nb_model.fit(df_features_train, df_target_train)\n",
    "target_prediction = nb_model.predict(df_features_test)"
   ]
  },
  {
   "cell_type": "code",
   "execution_count": 14,
   "metadata": {},
   "outputs": [
    {
     "name": "stdout",
     "output_type": "stream",
     "text": [
      "classification report: \n",
      "                precision    recall  f1-score   support\n",
      "\n",
      "  Colon_Cancer       0.78      0.84      0.81       517\n",
      "   Lung_Cancer       0.95      0.99      0.97       407\n",
      "Thyroid_Cancer       0.85      0.77      0.81       590\n",
      "\n",
      "      accuracy                           0.85      1514\n",
      "     macro avg       0.86      0.87      0.86      1514\n",
      "  weighted avg       0.85      0.85      0.85      1514\n",
      "\n"
     ]
    }
   ],
   "source": [
    "from sklearn.metrics import classification_report, accuracy_score, confusion_matrix\n",
    "#gaussian 95% acc.\n",
    "\n",
    "print(f\"classification report: \\n{classification_report(df_target_test, target_prediction)}\")"
   ]
  },
  {
   "cell_type": "code",
   "execution_count": 15,
   "metadata": {},
   "outputs": [
    {
     "data": {
      "text/plain": [
       "0.8533685601056803"
      ]
     },
     "execution_count": 15,
     "metadata": {},
     "output_type": "execute_result"
    }
   ],
   "source": [
    "accuracy_score(df_target_test, target_prediction)"
   ]
  },
  {
   "cell_type": "code",
   "execution_count": 16,
   "metadata": {},
   "outputs": [
    {
     "data": {
      "text/plain": [
       "array([[433,  10,  74],\n",
       "       [  1, 402,   4],\n",
       "       [123,  10, 457]])"
      ]
     },
     "execution_count": 16,
     "metadata": {},
     "output_type": "execute_result"
    },
    {
     "data": {
      "image/png": "[encoded data removed]",
      "text/plain": [
       "<Figure size 640x480 with 2 Axes>"
      ]
     },
     "metadata": {},
     "output_type": "display_data"
    }
   ],
   "source": [
    "import seaborn as sns\n",
    "import numpy as np\n",
    "\n",
    "cf_matrix = confusion_matrix(df_target_test, target_prediction)\n",
    "sns.heatmap(cf_matrix / np.sum(cf_matrix), annot = True)\n",
    "cf_matrix"
   ]
  },
  {
   "cell_type": "code",
   "execution_count": null,
   "metadata": {},
   "outputs": [],
   "source": []
  }
 ],
 "metadata": {
  "interpreter": {
   "hash": "31f2aee4e71d21fbe5cf8b01ff0e069b9275f58929596ceb00d14d90e3e16cd6"
  },
  "kernelspec": {
   "display_name": "Python 3.9.6 64-bit",
   "language": "python",
   "name": "python3"
  },
  "language_info": {
   "codemirror_mode": {
    "name": "ipython",
    "version": 3
   },
   "file_extension": ".py",
   "mimetype": "text/x-python",
   "name": "python",
   "nbconvert_exporter": "python",
   "pygments_lexer": "ipython3",
   "version": "3.9.13"
  },
  "orig_nbformat": 4
 },
 "nbformat": 4,
 "nbformat_minor": 2
}
